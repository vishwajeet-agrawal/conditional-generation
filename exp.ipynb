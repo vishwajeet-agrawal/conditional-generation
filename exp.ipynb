{
 "cells": [
  {
   "cell_type": "code",
   "execution_count": null,
   "metadata": {},
   "outputs": [
    {
     "ename": "",
     "evalue": "",
     "output_type": "error",
     "traceback": [
      "\u001b[1;31mFailed to start the Kernel. \n",
      "\u001b[1;31mImportError: /usr2/vishwaja/miniconda/envs/attention/lib/python3.11/lib-dynload/_sqlite3.cpython-311-x86_64-linux-gnu.so: undefined symbol: sqlite3_deserialize. \n",
      "\u001b[1;31mView Jupyter <a href='command:jupyter.viewOutput'>log</a> for further details."
     ]
    }
   ],
   "source": [
    "import torch\n",
    "from train import Trainer\n",
    "from model import Model\n",
    "from data import DataGenerator\n",
    "from omegaconf import OmegaConf as om"
   ]
  },
  {
   "cell_type": "code",
   "execution_count": null,
   "metadata": {},
   "outputs": [],
   "source": [
    "config = om.load('config.yaml')\n",
    "args = {'debug': True}\n",
    "model = Model(config.model)\n",
    "data_generator = DataGenerator(config.data)\n",
    "trainer = Trainer(model, data_generator, config.train, args)\n",
    "X, Xi, I, S = trainer.get_batch(trainer.config.eval_size)\n",
    "P = torch.from_numpy(trainer.data_generator.sampler.estimate_conditional_prob(X, I, S), device = trainer.config.device)"
   ]
  }
 ],
 "metadata": {
  "kernelspec": {
   "display_name": "attention",
   "language": "python",
   "name": "python3"
  },
  "language_info": {
   "name": "python",
   "version": "3.11.9"
  }
 },
 "nbformat": 4,
 "nbformat_minor": 2
}
